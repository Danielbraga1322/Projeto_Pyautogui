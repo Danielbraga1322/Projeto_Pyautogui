{
 "cells": [
  {
   "cell_type": "markdown",
   "metadata": {},
   "source": [
    "# Automação de Sistemas e Processos com Python\n",
    "\n",
    "### Desafio:\n",
    "\n",
    "Todos os dias, o nosso sistema atualiza as vendas do dia anterior.\n",
    "O seu trabalho diário, como analista, é enviar um e-mail para a diretoria, assim que começar a trabalhar, com o faturamento e a quantidade de produtos vendidos no dia anterior\n",
    "\n",
    "E-mail da diretoria: dcb.1305+diretoria@gmail.com<br>\n",
    "\n",
    "Para resolver isso, vamos usar o pyautogui, uma biblioteca de automação de comandos do mouse e do teclado"
   ]
  },
  {
   "cell_type": "code",
   "execution_count": 11,
   "metadata": {},
   "outputs": [],
   "source": [
    "# !pip install pyautogui"
   ]
  },
  {
   "cell_type": "code",
   "execution_count": 12,
   "metadata": {},
   "outputs": [],
   "source": [
    "import pyautogui\n",
    "import pyperclip\n",
    "import time\n",
    "\n",
    "pyautogui.PAUSE = 1\n",
    "# pyautogui.click -> clicar\n",
    "# pyautogui.press -> apertar 1 tecla\n",
    "# pyautogui.hotkey -> conjunto de teclas\n",
    "# pyautogui.write -> escreve um texto\n",
    "\n",
    "# passo1 Entrar no sistema da empresa - link do drive\n",
    "pyautogui.hotkey('ctrl', 't')\n",
    "pyperclip.copy('https://drive.google.com/drive/folders/149xknr9JvrlEnhNWO49zPcw0PW5icxga?usp=sharing')\n",
    "pyautogui.hotkey('ctrl', 'v')\n",
    "pyautogui.press('enter')\n",
    "\n",
    "time.sleep(5)\n",
    "\n",
    "# passo2 Navegar no sistema e encontrar a base de dados\n",
    "pyautogui.click(x=358, y=281, clicks=2)\n",
    "time.sleep(2)\n",
    "\n",
    "# passo3 Download da base de dados\n",
    "pyautogui.click(x=350, y=278)\n",
    "pyautogui.click(x=1216, y=190)\n",
    "pyautogui.click(x=1007, y=630)\n",
    "time.sleep(3)\n",
    "pyautogui.press('enter')\n",
    "time.sleep(5)\n"
   ]
  },
  {
   "cell_type": "markdown",
   "metadata": {},
   "source": [
    "### Vamos agora ler o arquivo baixado para pegar os indicadores\n",
    "\n",
    "- Faturamento\n",
    "- Quantidade de Produtos"
   ]
  },
  {
   "cell_type": "code",
   "execution_count": 13,
   "metadata": {},
   "outputs": [],
   "source": [
    "# passo4 Importar base de dados pro Python\n",
    "import pandas as pd\n",
    "\n",
    "# r antes do caminho do arquivo para transformar numa row string\n",
    "df = pd.read_excel(r'C:/Users/dcb13/Downloads/Vendas - Dez.xlsx')\n",
    "\n"
   ]
  },
  {
   "cell_type": "code",
   "execution_count": 14,
   "metadata": {},
   "outputs": [
    {
     "name": "stdout",
     "output_type": "stream",
     "text": [
      "Valor total faturado R$ 2,917,311.00 e quantidade total vendida 15,227\n"
     ]
    }
   ],
   "source": [
    "# passo5 Calcular indicativos\n",
    "faturamento = df['Valor Final'].sum() \n",
    "quantidade = df['Quantidade'].sum()\n",
    "\n",
    "print(f'Valor total faturado R$ {faturamento:,.2f} e quantidade total vendida {quantidade:,}')"
   ]
  },
  {
   "cell_type": "markdown",
   "metadata": {},
   "source": [
    "### Vamos agora enviar um e-mail pelo gmail"
   ]
  },
  {
   "cell_type": "code",
   "execution_count": 15,
   "metadata": {},
   "outputs": [],
   "source": [
    "# passo6 Enviar e-mail \n",
    "\n",
    "# abrindo outra aba\n",
    "pyautogui.hotkey('ctrl', 't')\n",
    "\n",
    "# entrar no e-mail\n",
    "pyperclip.copy('https://mail.google.com/mail/u/0/#inbox')\n",
    "pyautogui.hotkey('ctrl', 'v')\n",
    "pyautogui.press('enter')\n",
    "time.sleep(5)\n",
    "\n",
    "# clicar no botão escrever\n",
    "pyautogui.click(x=80, y=187)\n",
    "time.sleep(2)\n",
    "# preencher info do e-mail\n",
    "pyautogui.write('dcb.1305+diretoria@gmail.com')\n",
    "pyautogui.press('tab')\n",
    "\n",
    "pyautogui.press('tab')\n",
    "pyautogui.write('Relatório de vendas')\n",
    "\n",
    "pyautogui.press('tab')\n",
    "\n",
    "texto = f\"\"\"\n",
    "Atenção,\n",
    "\n",
    "Seguem dados referentes a empresa quantidade vendida {quantidade:,} e total faturado R$ {faturamento:,.2f}\n",
    "\"\"\"\n",
    "\n",
    "time.sleep(5)\n",
    "\n",
    "pyperclip.copy(texto)\n",
    "pyautogui.hotkey(\"ctrl\", \"v\")\n",
    "\n",
    "# enviar e-mail\n",
    "pyautogui.hotkey('ctrl', 'enter')"
   ]
  },
  {
   "cell_type": "markdown",
   "metadata": {},
   "source": [
    "#### Use esse código para descobrir qual a posição de um item que queira clicar\n",
    "\n",
    "- Lembre-se: a posição na sua tela é diferente da posição na minha tela"
   ]
  },
  {
   "cell_type": "code",
   "execution_count": 16,
   "metadata": {},
   "outputs": [],
   "source": [
    "# time.sleep(5)\n",
    "# pyautogui.position()"
   ]
  }
 ],
 "metadata": {
  "kernelspec": {
   "display_name": "Python 3",
   "language": "python",
   "name": "python3"
  },
  "language_info": {
   "codemirror_mode": {
    "name": "ipython",
    "version": 3
   },
   "file_extension": ".py",
   "mimetype": "text/x-python",
   "name": "python",
   "nbconvert_exporter": "python",
   "pygments_lexer": "ipython3",
   "version": "3.8.5"
  }
 },
 "nbformat": 4,
 "nbformat_minor": 4
}
